{
 "cells": [
  {
   "cell_type": "markdown",
   "id": "d7c4ee40-ee91-4003-8530-239b87c8bd14",
   "metadata": {},
   "source": [
    "password generator"
   ]
  },
  {
   "cell_type": "code",
   "execution_count": 4,
   "id": "94fe5b5d-b76c-433c-8bb5-8fb4c2c8f6a9",
   "metadata": {},
   "outputs": [],
   "source": [
    "import numpy as np\n",
    "import pandas as pd\n",
    "import random\n",
    "import string"
   ]
  },
  {
   "cell_type": "code",
   "execution_count": 6,
   "id": "14487f3f-9c9b-4ef6-8e72-f7a583007309",
   "metadata": {},
   "outputs": [
    {
     "name": "stdin",
     "output_type": "stream",
     "text": [
      "enter password length: 5\n"
     ]
    },
    {
     "name": "stdout",
     "output_type": "stream",
     "text": [
      "password generated: CGNcg\n"
     ]
    }
   ],
   "source": [
    "password = int(input(\"enter password length:\"))\n",
    "generator = ''.join(random.choice(string.ascii_letters + string.digits) for _ in range(password))\n",
    "print(\"password generated: \"+generator)"
   ]
  },
  {
   "cell_type": "code",
   "execution_count": null,
   "id": "22fb9ba9-fe67-4b41-b18f-14b119962c77",
   "metadata": {},
   "outputs": [],
   "source": []
  }
 ],
 "metadata": {
  "kernelspec": {
   "display_name": "Python 3 (ipykernel)",
   "language": "python",
   "name": "python3"
  },
  "language_info": {
   "codemirror_mode": {
    "name": "ipython",
    "version": 3
   },
   "file_extension": ".py",
   "mimetype": "text/x-python",
   "name": "python",
   "nbconvert_exporter": "python",
   "pygments_lexer": "ipython3",
   "version": "3.12.7"
  }
 },
 "nbformat": 4,
 "nbformat_minor": 5
}
